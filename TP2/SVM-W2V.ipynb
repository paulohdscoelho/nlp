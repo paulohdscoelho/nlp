{
 "cells": [
  {
   "cell_type": "code",
   "execution_count": 1,
   "metadata": {},
   "outputs": [
    {
     "name": "stderr",
     "output_type": "stream",
     "text": [
      "C:\\Users\\iagoa\\Anaconda3\\lib\\site-packages\\gensim\\utils.py:862: UserWarning: detected Windows; aliasing chunkize to chunkize_serial\n",
      "  warnings.warn(\"detected Windows; aliasing chunkize to chunkize_serial\")\n"
     ]
    }
   ],
   "source": [
    "import numpy as np\n",
    "import pandas as pd\n",
    "import time\n",
    "from gensim.models import Word2Vec as wv\n",
    "from gensim.models.word2vec import LineSentence\n",
    "from scipy import sparse\n",
    "from collections import defaultdict\n",
    "from sklearn import svm"
   ]
  },
  {
   "cell_type": "code",
   "execution_count": 2,
   "metadata": {
    "collapsed": true
   },
   "outputs": [],
   "source": [
    "def leitura_arquivo(path):\n",
    "    f1 = open(path, 'r', encoding='utf8')\n",
    "    text = []\n",
    "    tags = []\n",
    "    word_tags = defaultdict(list)\n",
    "    #leio arquivo e crio uma lista [word,tag]\n",
    "    for line in f1:\n",
    "        tokens = line.split()\n",
    "        for token in tokens:\n",
    "            word =  token.split('_')[0]\n",
    "            tag =  'POS_'+token.split('_')[1]\n",
    "            text.append(word)\n",
    "            tags.append(tag)\n",
    "            if tag not in word_tags[word]:\n",
    "                word_tags[word].append(tag)\n",
    "\n",
    "    return text,tags, word_tags\n",
    "\n",
    "def words_to_num(text):\n",
    "    words = {text[0][0]: 0, text[1][0]: 0}\n",
    "    tags = {text[0][1]: 0, text[1][1]: 0}\n",
    "    \n",
    "    for i in range(2,len(text)):\n",
    "        words[text[i][0]] = 0\n",
    "        tags[text[i][1]] = 0\n",
    "    \n",
    "    #agora tenho um número único para cada palavra/tag\n",
    "    return np.array(list(words.keys()) + list(tags.keys()))\n",
    "\n",
    "def cria_dict_num(num_of_words):\n",
    "    num_dict = {}\n",
    "    for i in range(len(num_of_words)):\n",
    "        num_dict[num_of_words[i]] = i\n",
    "    return num_dict"
   ]
  },
  {
   "cell_type": "code",
   "execution_count": 3,
   "metadata": {},
   "outputs": [
    {
     "name": "stdout",
     "output_type": "stream",
     "text": [
      "Wall time: 1.95 s\n"
     ]
    }
   ],
   "source": [
    "%%time\n",
    "path = 'macmorpho-train.txt'\n",
    "text,tags, word_tags = leitura_arquivo(path)\n",
    "text = np.array(text)"
   ]
  },
  {
   "cell_type": "code",
   "execution_count": 4,
   "metadata": {
    "scrolled": true
   },
   "outputs": [
    {
     "name": "stdout",
     "output_type": "stream",
     "text": [
      "Wall time: 1min 17s\n"
     ]
    }
   ],
   "source": [
    "%%time\n",
    "model = wv(text.reshape(-1,1), size = 1500, min_count=1, window=10, iter=10)"
   ]
  },
  {
   "cell_type": "code",
   "execution_count": 5,
   "metadata": {
    "collapsed": true
   },
   "outputs": [],
   "source": [
    "X_train = []\n",
    "for palavra in model.wv.vocab:\n",
    "    X_train.append(model.wv[palavra])"
   ]
  },
  {
   "cell_type": "code",
   "execution_count": 6,
   "metadata": {
    "collapsed": true
   },
   "outputs": [],
   "source": [
    "tag_dict = {}\n",
    "word_dict = {}\n",
    "i = 0\n",
    "j = 0\n",
    "for tag in tags:\n",
    "    tag_dict[tag] = 0\n",
    "for tag in tag_dict.keys():\n",
    "    tag_dict[tag] = i\n",
    "    i += 1\n",
    "for word in model.wv.vocab:\n",
    "    word_dict[word] = j\n",
    "    j += 1\n",
    "vec_tag = np.array(list(tag_dict.keys()))\n",
    "vec_word = np.array(list(model.wv.vocab))"
   ]
  },
  {
   "cell_type": "code",
   "execution_count": 7,
   "metadata": {
    "collapsed": true
   },
   "outputs": [],
   "source": [
    "mtx = sparse.lil_matrix((len(vec_word), len(vec_tag)))"
   ]
  },
  {
   "cell_type": "code",
   "execution_count": 8,
   "metadata": {},
   "outputs": [
    {
     "name": "stdout",
     "output_type": "stream",
     "text": [
      "Wall time: 10.4 s\n"
     ]
    }
   ],
   "source": [
    "%%time\n",
    "for i in range(len(text)):\n",
    "    mtx[word_dict[text[i]],tag_dict[tags[i]]] = 1"
   ]
  },
  {
   "cell_type": "code",
   "execution_count": 9,
   "metadata": {
    "collapsed": true
   },
   "outputs": [],
   "source": [
    "Y_train = []\n",
    "for i in range(len(vec_word)):\n",
    "    Y_train.append(mtx[i,1])"
   ]
  },
  {
   "cell_type": "code",
   "execution_count": 10,
   "metadata": {},
   "outputs": [
    {
     "data": {
      "text/plain": [
       "'%%time\\nclf = svm.SVC()\\nclf.fit(X_train,Y_train)'"
      ]
     },
     "execution_count": 10,
     "metadata": {},
     "output_type": "execute_result"
    }
   ],
   "source": [
    "'''%%time\n",
    "clf = svm.SVC()\n",
    "clf.fit(X_train,Y_train)'''"
   ]
  },
  {
   "cell_type": "code",
   "execution_count": 11,
   "metadata": {},
   "outputs": [
    {
     "data": {
      "text/plain": [
       "'teste = clf.score(X_train[:150], Y_train[:150])\\nteste'"
      ]
     },
     "execution_count": 11,
     "metadata": {},
     "output_type": "execute_result"
    }
   ],
   "source": [
    "'''teste = clf.score(X_train[:150], Y_train[:150])\n",
    "teste'''"
   ]
  },
  {
   "cell_type": "code",
   "execution_count": 10,
   "metadata": {},
   "outputs": [
    {
     "name": "stdout",
     "output_type": "stream",
     "text": [
      "Wall time: 1 ms\n"
     ]
    }
   ],
   "source": [
    "%%time\n",
    "X = X_train[:20000]\n",
    "y = Y_train[:20000]"
   ]
  },
  {
   "cell_type": "code",
   "execution_count": 11,
   "metadata": {},
   "outputs": [
    {
     "name": "stdout",
     "output_type": "stream",
     "text": [
      "Wall time: 19min 30s\n"
     ]
    }
   ],
   "source": [
    "%%time\n",
    "svr_rbf = svm.SVC(kernel='rbf', C=1e3, gamma=0.1)\n",
    "#svr_lin = svm.SVC(kernel='linear', C=1e3)\n",
    "#svr_poly = svm.SVC(kernel='poly', C=1e3, degree=2)\n",
    "y_rbf = svr_rbf.fit(X, y)#.predict(X)\n",
    "#y_lin = svr_lin.fit(X, y)#.predict(X)\n",
    "#y_poly = svr_poly.fit(X, y)#.predict(X)"
   ]
  },
  {
   "cell_type": "code",
   "execution_count": 14,
   "metadata": {},
   "outputs": [
    {
     "name": "stdout",
     "output_type": "stream",
     "text": [
      "Wall time: 19min\n"
     ]
    }
   ],
   "source": [
    "%%time\n",
    "clf = svm.SVC()\n",
    "clf.fit(X,y)"
   ]
  },
  {
   "cell_type": "code",
   "execution_count": null,
   "metadata": {
    "collapsed": true
   },
   "outputs": [],
   "source": [
    "'''print(y_lin.score(X,y),\n",
    "y_poly.score(X,y),\n",
    "y_rbf.score(X,y))'''"
   ]
  },
  {
   "cell_type": "code",
   "execution_count": null,
   "metadata": {
    "collapsed": true
   },
   "outputs": [],
   "source": [
    "#print(y_poly.score(X,y))"
   ]
  },
  {
   "cell_type": "code",
   "execution_count": null,
   "metadata": {
    "collapsed": true
   },
   "outputs": [],
   "source": [
    "#print(y_lin.score(X,y))"
   ]
  },
  {
   "cell_type": "code",
   "execution_count": 16,
   "metadata": {},
   "outputs": [
    {
     "name": "stdout",
     "output_type": "stream",
     "text": [
      "0.60045\n"
     ]
    }
   ],
   "source": [
    "print(clf.score(X,y))"
   ]
  },
  {
   "cell_type": "code",
   "execution_count": 12,
   "metadata": {},
   "outputs": [
    {
     "name": "stdout",
     "output_type": "stream",
     "text": [
      "0.78415\n"
     ]
    }
   ],
   "source": [
    "print(y_rbf.score(X,y))"
   ]
  },
  {
   "cell_type": "code",
   "execution_count": null,
   "metadata": {
    "collapsed": true
   },
   "outputs": [],
   "source": []
  },
  {
   "cell_type": "code",
   "execution_count": null,
   "metadata": {
    "collapsed": true
   },
   "outputs": [],
   "source": []
  }
 ],
 "metadata": {
  "kernelspec": {
   "display_name": "Python 3",
   "language": "python",
   "name": "python3"
  },
  "language_info": {
   "codemirror_mode": {
    "name": "ipython",
    "version": 3
   },
   "file_extension": ".py",
   "mimetype": "text/x-python",
   "name": "python",
   "nbconvert_exporter": "python",
   "pygments_lexer": "ipython3",
   "version": "3.6.2"
  }
 },
 "nbformat": 4,
 "nbformat_minor": 2
}
